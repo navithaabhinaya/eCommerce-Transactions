{
  "nbformat": 4,
  "nbformat_minor": 0,
  "metadata": {
    "colab": {
      "provenance": []
    },
    "kernelspec": {
      "name": "python3",
      "display_name": "Python 3"
    },
    "language_info": {
      "name": "python"
    }
  },
  "cells": [
    {
      "cell_type": "markdown",
      "source": [
        "# **Task 1:-EDA & Business Insights**"
      ],
      "metadata": {
        "id": "mBLpKtdFZ7xU"
      }
    },
    {
      "cell_type": "markdown",
      "source": [
        "#Importing libraries and datasets provided"
      ],
      "metadata": {
        "id": "gyHFB3lSdY6x"
      }
    },
    {
      "cell_type": "code",
      "execution_count": 1,
      "metadata": {
        "id": "mHXziZV5ZglX"
      },
      "outputs": [],
      "source": [
        "import pandas as pd\n",
        "import numpy as np\n",
        "import matplotlib.pyplot as plt\n",
        "import seaborn as sns\n"
      ]
    },
    {
      "cell_type": "code",
      "source": [
        "customers = pd.read_csv(\"Customers.csv\")\n",
        "products = pd.read_csv(\"Products.csv\")\n",
        "transactions = pd.read_csv(\"Transactions.csv\")"
      ],
      "metadata": {
        "id": "mVvolYRUaNea"
      },
      "execution_count": 2,
      "outputs": []
    },
    {
      "cell_type": "markdown",
      "source": [
        "# Converting date columns"
      ],
      "metadata": {
        "id": "kIN3SURvalwM"
      }
    },
    {
      "cell_type": "code",
      "source": [
        "customers['SignupDate'] = pd.to_datetime(customers['SignupDate'])\n",
        "transactions['TransactionDate'] = pd.to_datetime(transactions['TransactionDate'])"
      ],
      "metadata": {
        "id": "0_34KXm3aRb3"
      },
      "execution_count": 17,
      "outputs": []
    },
    {
      "cell_type": "markdown",
      "source": [
        "# Display dataset info"
      ],
      "metadata": {
        "id": "Ud-0AeAVagOL"
      }
    },
    {
      "cell_type": "code",
      "source": [
        "print(customers.info())\n",
        "print(products.info())\n",
        "print(transactions.info())"
      ],
      "metadata": {
        "colab": {
          "base_uri": "https://localhost:8080/"
        },
        "id": "QaCufRrKacJ_",
        "outputId": "30c0203d-38c4-4502-c230-f447e2f64c1c"
      },
      "execution_count": 18,
      "outputs": [
        {
          "output_type": "stream",
          "name": "stdout",
          "text": [
            "<class 'pandas.core.frame.DataFrame'>\n",
            "RangeIndex: 200 entries, 0 to 199\n",
            "Data columns (total 4 columns):\n",
            " #   Column        Non-Null Count  Dtype         \n",
            "---  ------        --------------  -----         \n",
            " 0   CustomerID    200 non-null    object        \n",
            " 1   CustomerName  200 non-null    object        \n",
            " 2   Region        200 non-null    object        \n",
            " 3   SignupDate    200 non-null    datetime64[ns]\n",
            "dtypes: datetime64[ns](1), object(3)\n",
            "memory usage: 6.4+ KB\n",
            "None\n",
            "<class 'pandas.core.frame.DataFrame'>\n",
            "RangeIndex: 100 entries, 0 to 99\n",
            "Data columns (total 4 columns):\n",
            " #   Column       Non-Null Count  Dtype  \n",
            "---  ------       --------------  -----  \n",
            " 0   ProductID    100 non-null    object \n",
            " 1   ProductName  100 non-null    object \n",
            " 2   Category     100 non-null    object \n",
            " 3   Price        100 non-null    float64\n",
            "dtypes: float64(1), object(3)\n",
            "memory usage: 3.3+ KB\n",
            "None\n",
            "<class 'pandas.core.frame.DataFrame'>\n",
            "RangeIndex: 1000 entries, 0 to 999\n",
            "Data columns (total 7 columns):\n",
            " #   Column           Non-Null Count  Dtype         \n",
            "---  ------           --------------  -----         \n",
            " 0   TransactionID    1000 non-null   object        \n",
            " 1   CustomerID       1000 non-null   object        \n",
            " 2   ProductID        1000 non-null   object        \n",
            " 3   TransactionDate  1000 non-null   datetime64[ns]\n",
            " 4   Quantity         1000 non-null   int64         \n",
            " 5   TotalValue       1000 non-null   float64       \n",
            " 6   Price            1000 non-null   float64       \n",
            "dtypes: datetime64[ns](1), float64(2), int64(1), object(3)\n",
            "memory usage: 54.8+ KB\n",
            "None\n"
          ]
        }
      ]
    },
    {
      "cell_type": "markdown",
      "source": [
        "# Checking for any missing values"
      ],
      "metadata": {
        "id": "J6pXscI7atQR"
      }
    },
    {
      "cell_type": "code",
      "source": [
        "print(customers.isnull().sum())\n",
        "print(products.isnull().sum())\n",
        "print(transactions.isnull().sum())"
      ],
      "metadata": {
        "colab": {
          "base_uri": "https://localhost:8080/"
        },
        "id": "Smo5kqZ2aezo",
        "outputId": "7f8fc486-642d-497d-f324-feae0bcff3c2"
      },
      "execution_count": 5,
      "outputs": [
        {
          "output_type": "stream",
          "name": "stdout",
          "text": [
            "CustomerID      0\n",
            "CustomerName    0\n",
            "Region          0\n",
            "SignupDate      0\n",
            "dtype: int64\n",
            "ProductID      0\n",
            "ProductName    0\n",
            "Category       0\n",
            "Price          0\n",
            "dtype: int64\n",
            "TransactionID      0\n",
            "CustomerID         0\n",
            "ProductID          0\n",
            "TransactionDate    0\n",
            "Quantity           0\n",
            "TotalValue         0\n",
            "Price              0\n",
            "dtype: int64\n"
          ]
        }
      ]
    },
    {
      "cell_type": "markdown",
      "source": [
        "# Checking for any duplicates"
      ],
      "metadata": {
        "id": "Oe52ljL5bA_J"
      }
    },
    {
      "cell_type": "code",
      "source": [
        "print(customers.duplicated().sum())\n",
        "print(products.duplicated().sum())\n",
        "print(transactions.duplicated().sum())"
      ],
      "metadata": {
        "colab": {
          "base_uri": "https://localhost:8080/"
        },
        "id": "Bkekxyq9bAks",
        "outputId": "90dabd9c-0755-467f-d114-5122a2dd3068"
      },
      "execution_count": 16,
      "outputs": [
        {
          "output_type": "stream",
          "name": "stdout",
          "text": [
            "0\n",
            "0\n",
            "0\n"
          ]
        }
      ]
    },
    {
      "cell_type": "markdown",
      "source": [
        "# Merging datasets"
      ],
      "metadata": {
        "id": "33Ih-Zm9c9Yo"
      }
    },
    {
      "cell_type": "code",
      "source": [
        "df = transactions.merge(customers, on=\"CustomerID\").merge(products, on=\"ProductID\")\n"
      ],
      "metadata": {
        "id": "PN5f9UItbFM1"
      },
      "execution_count": 13,
      "outputs": []
    },
    {
      "cell_type": "markdown",
      "source": [
        "# performing basic stats"
      ],
      "metadata": {
        "id": "r17vNxBMc4PV"
      }
    },
    {
      "cell_type": "code",
      "source": [
        "print(df.describe())"
      ],
      "metadata": {
        "colab": {
          "base_uri": "https://localhost:8080/"
        },
        "id": "u0q2fsNlbJz1",
        "outputId": "c5512f6f-5f2b-4a92-8789-876a53edb960"
      },
      "execution_count": 14,
      "outputs": [
        {
          "output_type": "stream",
          "name": "stdout",
          "text": [
            "                     TransactionDate     Quantity   TotalValue     Price_x  \\\n",
            "count                           1000  1000.000000  1000.000000  1000.00000   \n",
            "mean   2024-06-23 15:33:02.768999936     2.537000   689.995560   272.55407   \n",
            "min              2023-12-30 15:29:12     1.000000    16.080000    16.08000   \n",
            "25%       2024-03-25 22:05:34.500000     2.000000   295.295000   147.95000   \n",
            "50%       2024-06-26 17:21:52.500000     3.000000   588.880000   299.93000   \n",
            "75%              2024-09-19 14:19:57     4.000000  1011.660000   404.40000   \n",
            "max              2024-12-28 11:00:00     4.000000  1991.040000   497.76000   \n",
            "std                              NaN     1.117981   493.144478   140.73639   \n",
            "\n",
            "                          SignupDate     Price_y  \n",
            "count                           1000  1000.00000  \n",
            "mean   2023-07-09 02:49:55.199999744   272.55407  \n",
            "min              2022-01-22 00:00:00    16.08000  \n",
            "25%              2022-09-17 12:00:00   147.95000  \n",
            "50%              2023-07-23 00:00:00   299.93000  \n",
            "75%              2024-04-12 00:00:00   404.40000  \n",
            "max              2024-12-28 00:00:00   497.76000  \n",
            "std                              NaN   140.73639  \n"
          ]
        }
      ]
    },
    {
      "cell_type": "markdown",
      "source": [
        "# Plot total transactions over time"
      ],
      "metadata": {
        "id": "KGkHetYacx_e"
      }
    },
    {
      "cell_type": "code",
      "source": [
        "plt.figure(figsize=(12, 6))\n",
        "monthly_transactions = df.groupby(df['TransactionDate'].dt.to_period(\"M\")).size()\n",
        "max_value = monthly_transactions.max()\n",
        "min_value = monthly_transactions.min()\n",
        "colors = ['red' if val == max_value else 'green' if val == min_value else 'skyblue' for val in monthly_transactions]\n",
        "monthly_transactions.plot(kind='bar', color=colors, edgecolor='black')\n",
        "plt.title(\"Transactions Over Time\", fontsize=14)\n",
        "plt.xlabel(\"Month\", fontsize=12)\n",
        "plt.ylabel(\"Transaction Count\", fontsize=12)\n",
        "plt.xticks(rotation=45)\n",
        "\n",
        "# Show values on bars\n",
        "for i, val in enumerate(monthly_transactions):\n",
        "    plt.text(i, val + 5, str(val), ha='center', fontsize=10, fontweight='bold')\n",
        "\n",
        "plt.show()\n"
      ],
      "metadata": {
        "colab": {
          "base_uri": "https://localhost:8080/",
          "height": 532
        },
        "id": "FvN-AuQWbPSH",
        "outputId": "da3a5952-c018-4863-96c9-bf995d415aa1"
      },
      "execution_count": 15,
      "outputs": [
        {
          "output_type": "display_data",
          "data": {
            "text/plain": [
              "<Figure size 1200x600 with 1 Axes>"
            ],
            "image/png": "[encoded data removed]"
          },
          "metadata": {}
        }
      ]
    },
    {
      "cell_type": "code",
      "source": [
        "# Top 5 customers by total spending\n",
        "top_customers = df.groupby(\"CustomerID\")[\"TotalValue\"].sum().sort_values(ascending=False).head(5)\n",
        "print(\"Top Customers:\\n\", top_customers)"
      ],
      "metadata": {
        "colab": {
          "base_uri": "https://localhost:8080/"
        },
        "id": "4j5J9JlqbYpS",
        "outputId": "268e54c6-f808-4070-b805-de7c2151f63b"
      },
      "execution_count": 10,
      "outputs": [
        {
          "output_type": "stream",
          "name": "stdout",
          "text": [
            "Top Customers:\n",
            " CustomerID\n",
            "C0141    10673.87\n",
            "C0054     8040.39\n",
            "C0065     7663.70\n",
            "C0156     7634.45\n",
            "C0082     7572.91\n",
            "Name: TotalValue, dtype: float64\n"
          ]
        }
      ]
    }
  ]
}