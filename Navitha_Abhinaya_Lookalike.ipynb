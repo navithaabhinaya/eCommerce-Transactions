{
  "nbformat": 4,
  "nbformat_minor": 0,
  "metadata": {
    "colab": {
      "provenance": []
    },
    "kernelspec": {
      "name": "python3",
      "display_name": "Python 3"
    },
    "language_info": {
      "name": "python"
    }
  },
  "cells": [
    {
      "cell_type": "markdown",
      "source": [
        "# **Task 2: Lookalike Model**"
      ],
      "metadata": {
        "id": "1gtL_WqlpWp4"
      }
    },
    {
      "cell_type": "code",
      "execution_count": 2,
      "metadata": {
        "id": "iIDKlAZNmFis"
      },
      "outputs": [],
      "source": [
        "from sklearn.preprocessing import StandardScaler\n",
        "from sklearn.metrics.pairwise import cosine_similarity\n",
        "import pandas as pd\n",
        "import numpy as np"
      ]
    },
    {
      "cell_type": "code",
      "source": [
        "customers = pd.read_csv(\"Customers.csv\")\n",
        "products = pd.read_csv(\"Products.csv\")\n",
        "transactions = pd.read_csv(\"Transactions.csv\")"
      ],
      "metadata": {
        "id": "goY2SyVLvCGF"
      },
      "execution_count": 3,
      "outputs": []
    },
    {
      "cell_type": "code",
      "source": [
        "customers['SignupDate'] = pd.to_datetime(customers['SignupDate'])\n",
        "transactions['TransactionDate'] = pd.to_datetime(transactions['TransactionDate'])"
      ],
      "metadata": {
        "id": "CiWjIyf1vx4r"
      },
      "execution_count": 4,
      "outputs": []
    },
    {
      "cell_type": "markdown",
      "source": [
        "## Aggregate transaction data of each customer"
      ],
      "metadata": {
        "id": "8g72_gfc7fFM"
      }
    },
    {
      "cell_type": "code",
      "source": [
        "customer_data = df.groupby(\"CustomerID\").agg({\n",
        "    \"TotalValue\": \"sum\",\n",
        "    \"Quantity\": \"sum\",\n",
        "    \"Price\": \"mean\"\n",
        "}).reset_index()"
      ],
      "metadata": {
        "id": "c-EReK5mu43J"
      },
      "execution_count": 14,
      "outputs": []
    },
    {
      "cell_type": "markdown",
      "source": [
        "## Data Normalization"
      ],
      "metadata": {
        "id": "ZeJSpDfd7rp_"
      }
    },
    {
      "source": [
        "scaler = StandardScaler()\n",
        "customer_data_scaled = scaler.fit_transform(customer_data.iloc[:, 1:])"
      ],
      "cell_type": "code",
      "metadata": {
        "id": "Ckao2xbmwgwQ"
      },
      "execution_count": 7,
      "outputs": []
    },
    {
      "cell_type": "markdown",
      "source": [
        "## Computing similarity scores"
      ],
      "metadata": {
        "id": "O03X1ipQ7zA9"
      }
    },
    {
      "cell_type": "code",
      "source": [
        "similarity_matrix = cosine_similarity(customer_data_scaled)"
      ],
      "metadata": {
        "id": "oXCBJYmo6QDu"
      },
      "execution_count": 8,
      "outputs": []
    },
    {
      "cell_type": "markdown",
      "source": [
        "## Creating a dictionary for top 5 similar customers per use"
      ],
      "metadata": {
        "id": "qBqRTiAXp8KJ"
      }
    },
    {
      "cell_type": "code",
      "source": [
        "similar_customers = {}\n",
        "for i, cust_id in enumerate(customer_data[\"CustomerID\"][:20]):  # First 20 customers\n",
        "    scores = list(enumerate(similarity_matrix[i]))\n",
        "    scores = sorted(scores, key=lambda x: x[1], reverse=True)[1:6]  # Top 5 excluding self\n",
        "    similar_customers[cust_id] = [(customer_data[\"CustomerID\"][idx], round(score, 3)) for idx, score in scores]\n",
        "\n"
      ],
      "metadata": {
        "id": "MDhyPO4h6Z4v"
      },
      "execution_count": 15,
      "outputs": []
    },
    {
      "cell_type": "markdown",
      "source": [
        "## Saving as CSV file"
      ],
      "metadata": {
        "id": "Fur1h9pNqS2J"
      }
    },
    {
      "cell_type": "code",
      "source": [
        "similar_df = pd.DataFrame([(key, v[0][0], v[0][1], v[1][0], v[1][1],\n",
        "                            v[2][0], v[2][1], v[3][0], v[3][1], v[4][0], v[4][1])\n",
        "                           for key, v in similar_customers.items()],\n",
        "                          columns=[\"CustomerID\", \"Similar1\", \"Score1\", \"Similar2\", \"Score2\",\n",
        "                                   \"Similar3\", \"Score3\", \"Similar4\", \"Score4\", \"Similar5\", \"Score5\"])\n",
        "\n",
        "similar_df.to_csv(\"Navitha_Abhinaya_Lookalike.csv\", index=False)\n"
      ],
      "metadata": {
        "id": "I3nbOBLx7IdY"
      },
      "execution_count": 16,
      "outputs": []
    }
  ]
}